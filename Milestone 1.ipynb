{
 "cells": [
  {
   "cell_type": "code",
   "execution_count": 1,
   "id": "980e36b8-1553-43f6-b00c-25f137cb51c4",
   "metadata": {
    "jp-MarkdownHeadingCollapsed": true
   },
   "outputs": [
    {
     "name": "stdout",
     "output_type": "stream",
     "text": [
      "Welcome to the FeastExpress. Order your food online!\n",
      "\n"
     ]
    },
    {
     "name": "stdin",
     "output_type": "stream",
     "text": [
      "Are you a 'Customer' or 'Admin'?  customer\n",
      "\n",
      "Please enter your name:  Anu\n",
      "Are you a Prime Member? (yes/no):  yes\n"
     ]
    },
    {
     "name": "stdout",
     "output_type": "stream",
     "text": [
      "\n",
      "Menu:\n",
      "Veg Burger: Rs 350\n",
      "Chicken Burger: Rs 450\n",
      "Momos: Rs 200\n",
      "Chicken Biryani: Rs 500\n",
      "Motton Biryani: Rs 600\n",
      "Italian Meal: Rs 1100\n",
      "South Indian Meal: Rs 1200\n",
      "North Indian Meal: Rs 1300\n",
      "Fries: Rs 100\n",
      "Waffle: Rs 300\n",
      "Pancake: Rs 250\n",
      "Coke: Rs 50\n",
      "Sprite: Rs 50\n",
      "Chocolate Ice Cream: Rs 100\n"
     ]
    },
    {
     "name": "stdin",
     "output_type": "stream",
     "text": [
      "\n",
      "Enter the food item you want to order (type 'done' to finish):  South Indian Meal\n"
     ]
    },
    {
     "name": "stdout",
     "output_type": "stream",
     "text": [
      "Added South Indian Meal to your order.\n"
     ]
    },
    {
     "name": "stdin",
     "output_type": "stream",
     "text": [
      "\n",
      "Enter the food item you want to order (type 'done' to finish):  done\n"
     ]
    },
    {
     "name": "stdout",
     "output_type": "stream",
     "text": [
      "\n",
      "Order Summary:\n",
      "- South Indian Meal: Rs 1200\n",
      "\n",
      "Total Price before discount: Rs 1200\n",
      "Additional Discount Applied(Prime discount+30%): Rs 480.00\n",
      "Total Price after discount: Rs 720.0\n",
      "\n",
      "Choose a payment method:\n",
      "1. Debit Card\n",
      "2. Cash on Delivery (COD)\n",
      "3. UPI Payment (PhonePe/Google Pay)\n"
     ]
    },
    {
     "name": "stdin",
     "output_type": "stream",
     "text": [
      "Enter the number corresponding to your payment method:  1\n"
     ]
    },
    {
     "name": "stdout",
     "output_type": "stream",
     "text": [
      "You chose Debit Card.\n",
      "\n",
      "The food ordered will be delivered soon, Enjoy your meal!\n"
     ]
    }
   ],
   "source": [
    "from abc import ABC, abstractmethod\n",
    "\n",
    "# Abstraction through an abstract class\n",
    "class PaymentMethod(ABC):\n",
    "    @abstractmethod\n",
    "    def process_payment(self):\n",
    "        pass\n",
    "\n",
    "# Concrete classes for different payment methods (Inheritance and Polymorphism)\n",
    "class DebitCardPayment(PaymentMethod):\n",
    "    def process_payment(self):\n",
    "        return \"You chose Debit Card.\"\n",
    "\n",
    "class CODPayment(PaymentMethod):\n",
    "    def process_payment(self):\n",
    "        return \"You chose Cash on Delivery (COD).\"\n",
    "\n",
    "class UPIPayment(PaymentMethod):\n",
    "    def process_payment(self):\n",
    "        return \"You chose UPI Payment (PhonePe/Google Pay).\"\n",
    "\n",
    "# Main FoodOrderingSystem class\n",
    "class FoodOrderingSystem: \n",
    "    # Encapsulation: Using private attributes and methods to protect data\n",
    "    def __init__(self):\n",
    "        self.__menu = {\n",
    "            \"Veg Burger\": 350,\n",
    "            \"Chicken Burger\": 450,\n",
    "            \"Momos\": 200,\n",
    "            \"Chicken Biryani\": 500,\n",
    "            \"Motton Biryani\": 600,\n",
    "            \"Italian Meal\": 1100,\n",
    "            \"South Indian Meal\": 1200,\n",
    "            \"North Indian Meal\": 1300,\n",
    "            \"Fries\": 100,\n",
    "            \"Waffle\": 300,\n",
    "            \"Pancake\": 250,\n",
    "            \"Coke\": 50,\n",
    "            \"Sprite\": 50,\n",
    "            \"Chocolate Ice Cream\": 100\n",
    "        }\n",
    "        self.__ordered_items = []\n",
    "        self.__total_price = 0\n",
    "        self.__customer_name = \"\"\n",
    "        self.__is_prime_member = False\n",
    "\n",
    "    # 1. Welcome Message\n",
    "    def welcome(self):\n",
    "        print(\"Welcome to the FeastExpress. Order your food online!\\n\")\n",
    "\n",
    "    # 2. Ask whether 'Customer' or 'Admin'\n",
    "    def get_user_role(self):\n",
    "        role = input(\"Are you a 'Customer' or 'Admin'? \")\n",
    "        return role.lower()\n",
    "\n",
    "    # 3. Get Customer Name and Prime Membership Status\n",
    "    def get_customer_info(self):\n",
    "        self.__customer_name = input(\"\\nPlease enter your name: \")\n",
    "        prime_status = input(\"Are you a Prime Member? (yes/no): \")\n",
    "        self.__is_prime_member = prime_status.lower() \n",
    "\n",
    "    # 4. Display Menu and 5. Take Order until 'done' is typed\n",
    "    def display_menu_and_take_order(self):\n",
    "        print(\"\\nMenu:\")\n",
    "        for item, price in self.__menu.items():\n",
    "            print(f\"{item}: Rs {price}\")\n",
    "\n",
    "        while True:\n",
    "            food_item = input(\"\\nEnter the food item you want to order (type 'done' to finish): \").title()\n",
    "            if food_item == \"Done\":\n",
    "                break\n",
    "            elif food_item in self.__menu:\n",
    "                self.__ordered_items.append(food_item)\n",
    "                self.__total_price += self.__menu[food_item]\n",
    "                print(f\"Added {food_item} to your order.\")\n",
    "            else:\n",
    "                print(\"Invalid item. Please choose from the menu.\")\n",
    "\n",
    "    # 6. Display Order Summary and Apply Discount if Applicable\n",
    "    def display_order_summary(self):\n",
    "        print(\"\\nOrder Summary:\")\n",
    "        for item in self.__ordered_items:\n",
    "            print(f\"- {item}: Rs {self.__menu[item]}\")\n",
    "\n",
    "        print(f\"\\nTotal Price before discount: Rs {self.__total_price}\")\n",
    "\n",
    "\n",
    "        # Apply a 30% discount if total price is >= 1200 or the customer is a prime member\n",
    "        if (self.__total_price >= 1200 and self.__is_prime_member == 'yes'):\n",
    "            discount = 0.40 * self.__total_price\n",
    "            self.__total_price -= discount\n",
    "            print(f\"Additional Discount Applied(Prime discount+30%): Rs {discount:.2f}\")\n",
    "\n",
    "        # Check if the customer is a prime member\n",
    "        elif (self.__is_prime_member == 'yes'):\n",
    "            discount = 0.10 * self.__total_price\n",
    "            print(f\"Prime Member Discount Applied: Rs {discount:.2f}\")\n",
    "            self.__total_price -= discount\n",
    "\n",
    "        elif (self.__is_prime_member == 'no' and self.__total_price >= 1200):\n",
    "            discount = 0.30 * self.__total_price\n",
    "            print(f\"Offer applied for orders greater or equal to Rs 1200: Rs {discount:.2f}\")\n",
    "            self.__total_price -= discount\n",
    "\n",
    "        else:\n",
    "            discount = 0\n",
    "            print(f\"No offer applied for orders lesser than Rs 1200: Rs {discount:.2f}\")\n",
    "            self.__total_price -= discount\n",
    "\n",
    "        print(f\"Total Price after discount: Rs {self.__total_price}\")\n",
    "\n",
    "    # 8. Payment Options (Polymorphism using different payment methods)\n",
    "    def choose_payment_method(self):\n",
    "        print(\"\\nChoose a payment method:\")\n",
    "        print(\"1. Debit Card\")\n",
    "        print(\"2. Cash on Delivery (COD)\")\n",
    "        print(\"3. UPI Payment (PhonePe/Google Pay)\")\n",
    "\n",
    "        payment_choice = input(\"Enter the number corresponding to your payment method: \")\n",
    "\n",
    "        if payment_choice == \"1\":\n",
    "            payment_method = DebitCardPayment()\n",
    "        elif payment_choice == \"2\":\n",
    "            payment_method = CODPayment()\n",
    "        elif payment_choice == \"3\":\n",
    "            payment_method = UPIPayment()\n",
    "        else:\n",
    "            print(\"Invalid choice. Defaulting to Cash on Delivery (COD).\")\n",
    "            payment_method = CODPayment()\n",
    "\n",
    "        # Process the selected payment method (Polymorphism in action)\n",
    "        print(payment_method.process_payment())\n",
    "\n",
    "    # 9. Order Completion Message\n",
    "    def complete_order(self):\n",
    "        print(\"\\nThe food ordered will be delivered soon, Enjoy your meal!\")\n",
    "\n",
    "    # Main flow\n",
    "    def run(self):\n",
    "        self.welcome()\n",
    "        role = self.get_user_role()\n",
    "        if role == \"customer\":\n",
    "            self.get_customer_info()\n",
    "            self.display_menu_and_take_order()\n",
    "            self.display_order_summary()\n",
    "            self.choose_payment_method()\n",
    "            self.complete_order()\n",
    "        else:\n",
    "            print(\"\\nAccess Denied! Only customers can place orders.\")\n",
    "\n",
    "# Run the Food Ordering System\n",
    "food_ordering_system = FoodOrderingSystem()\n",
    "food_ordering_system.run()"
   ]
  },
  {
   "cell_type": "code",
   "execution_count": null,
   "id": "45677189-7054-4cf4-9d5f-36978b7915de",
   "metadata": {},
   "outputs": [],
   "source": []
  }
 ],
 "metadata": {
  "kernelspec": {
   "display_name": "Python 3 (ipykernel)",
   "language": "python",
   "name": "python3"
  },
  "language_info": {
   "codemirror_mode": {
    "name": "ipython",
    "version": 3
   },
   "file_extension": ".py",
   "mimetype": "text/x-python",
   "name": "python",
   "nbconvert_exporter": "python",
   "pygments_lexer": "ipython3",
   "version": "3.11.7"
  }
 },
 "nbformat": 4,
 "nbformat_minor": 5
}
